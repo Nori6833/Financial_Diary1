{
 "cells": [
  {
   "cell_type": "code",
   "execution_count": 2,
   "id": "643eb7be",
   "metadata": {
    "scrolled": true
   },
   "outputs": [
    {
     "name": "stderr",
     "output_type": "stream",
     "text": [
      "/Users/inouenoritake/opt/miniconda3/lib/python3.9/site-packages/outdated/utils.py:14: OutdatedPackageWarning: The package pingouin is out of date. Your version is 0.3.11, the latest is 0.3.12.\n",
      "Set the environment variable OUTDATED_IGNORE=1 to disable these warnings.\n",
      "  return warn(\n"
     ]
    },
    {
     "data": {
      "text/html": [
       "<div>\n",
       "<style scoped>\n",
       "    .dataframe tbody tr th:only-of-type {\n",
       "        vertical-align: middle;\n",
       "    }\n",
       "\n",
       "    .dataframe tbody tr th {\n",
       "        vertical-align: top;\n",
       "    }\n",
       "\n",
       "    .dataframe thead th {\n",
       "        text-align: right;\n",
       "    }\n",
       "</style>\n",
       "<table border=\"1\" class=\"dataframe\">\n",
       "  <thead>\n",
       "    <tr style=\"text-align: right;\">\n",
       "      <th></th>\n",
       "      <th>date</th>\n",
       "      <th>ref</th>\n",
       "      <th>code</th>\n",
       "      <th>class</th>\n",
       "      <th>description</th>\n",
       "      <th>subclass</th>\n",
       "      <th>tag</th>\n",
       "      <th>takain</th>\n",
       "      <th>takaout</th>\n",
       "      <th>details</th>\n",
       "      <th>notes</th>\n",
       "      <th>flow</th>\n",
       "      <th>type</th>\n",
       "      <th>quartile</th>\n",
       "    </tr>\n",
       "  </thead>\n",
       "  <tbody>\n",
       "    <tr>\n",
       "      <th>772088</th>\n",
       "      <td>2020-01-01</td>\n",
       "      <td>no rec</td>\n",
       "      <td>01KIF</td>\n",
       "      <td>IWA</td>\n",
       "      <td>earned income</td>\n",
       "      <td>shop labour</td>\n",
       "      <td>no rec</td>\n",
       "      <td>36</td>\n",
       "      <td>0</td>\n",
       "      <td>onion and potato shop</td>\n",
       "      <td>no rec</td>\n",
       "      <td>in</td>\n",
       "      <td>income</td>\n",
       "      <td>4</td>\n",
       "    </tr>\n",
       "    <tr>\n",
       "      <th>772089</th>\n",
       "      <td>2020-01-01</td>\n",
       "      <td>no rec</td>\n",
       "      <td>01KIF</td>\n",
       "      <td>EFO</td>\n",
       "      <td>food costs</td>\n",
       "      <td>bakery</td>\n",
       "      <td>no rec</td>\n",
       "      <td>0</td>\n",
       "      <td>-10</td>\n",
       "      <td>bread</td>\n",
       "      <td>no rec</td>\n",
       "      <td>out</td>\n",
       "      <td>expenditure</td>\n",
       "      <td>4</td>\n",
       "    </tr>\n",
       "    <tr>\n",
       "      <th>772090</th>\n",
       "      <td>2020-01-01</td>\n",
       "      <td>no rec</td>\n",
       "      <td>01KIF</td>\n",
       "      <td>EFO</td>\n",
       "      <td>food costs</td>\n",
       "      <td>herbs and spices</td>\n",
       "      <td>no rec</td>\n",
       "      <td>0</td>\n",
       "      <td>-5</td>\n",
       "      <td>chilli</td>\n",
       "      <td>no rec</td>\n",
       "      <td>out</td>\n",
       "      <td>expenditure</td>\n",
       "      <td>4</td>\n",
       "    </tr>\n",
       "    <tr>\n",
       "      <th>772091</th>\n",
       "      <td>2020-01-01</td>\n",
       "      <td>no rec</td>\n",
       "      <td>01KIF</td>\n",
       "      <td>EOT</td>\n",
       "      <td>other expenditure</td>\n",
       "      <td>misc living expenses</td>\n",
       "      <td>no rec</td>\n",
       "      <td>0</td>\n",
       "      <td>-10</td>\n",
       "      <td>daughter</td>\n",
       "      <td>no rec</td>\n",
       "      <td>out-t</td>\n",
       "      <td>expenditure</td>\n",
       "      <td>4</td>\n",
       "    </tr>\n",
       "    <tr>\n",
       "      <th>772092</th>\n",
       "      <td>2020-01-01</td>\n",
       "      <td>no rec</td>\n",
       "      <td>01KIF</td>\n",
       "      <td>EFO</td>\n",
       "      <td>food costs</td>\n",
       "      <td>fish</td>\n",
       "      <td>no rec</td>\n",
       "      <td>0</td>\n",
       "      <td>-60</td>\n",
       "      <td>fish</td>\n",
       "      <td>no rec</td>\n",
       "      <td>out</td>\n",
       "      <td>expenditure</td>\n",
       "      <td>4</td>\n",
       "    </tr>\n",
       "  </tbody>\n",
       "</table>\n",
       "</div>"
      ],
      "text/plain": [
       "0            date     ref   code class        description  \\\n",
       "772088 2020-01-01  no rec  01KIF   IWA      earned income   \n",
       "772089 2020-01-01  no rec  01KIF   EFO         food costs   \n",
       "772090 2020-01-01  no rec  01KIF   EFO         food costs   \n",
       "772091 2020-01-01  no rec  01KIF   EOT  other expenditure   \n",
       "772092 2020-01-01  no rec  01KIF   EFO         food costs   \n",
       "\n",
       "0                   subclass     tag  takain  takaout                details  \\\n",
       "772088           shop labour  no rec      36        0  onion and potato shop   \n",
       "772089                bakery  no rec       0      -10                  bread   \n",
       "772090      herbs and spices  no rec       0       -5                 chilli   \n",
       "772091  misc living expenses  no rec       0      -10               daughter   \n",
       "772092                  fish  no rec       0      -60                   fish   \n",
       "\n",
       "0        notes   flow         type quartile  \n",
       "772088  no rec     in       income        4  \n",
       "772089  no rec    out  expenditure        4  \n",
       "772090  no rec    out  expenditure        4  \n",
       "772091  no rec  out-t  expenditure        4  \n",
       "772092  no rec    out  expenditure        4  "
      ]
     },
     "execution_count": 2,
     "metadata": {},
     "output_type": "execute_result"
    }
   ],
   "source": [
    "import csv\n",
    "with open('hrishipara_financial_diaries.csv') as var_name:\n",
    "    reader=csv.reader(var_name)\n",
    "    A = [row for row in reader]\n",
    "import pingouin as pg\n",
    "import numpy as np\n",
    "import pandas as pd\n",
    "import matplotlib.pyplot as plt\n",
    "from matplotlib import font_manager as fm\n",
    "from matplotlib import cm\n",
    "pd.set_option('display.max_rows', None)\n",
    "df = pd.DataFrame(A)\n",
    "new_header = df.iloc[0] #grab the first row for the header\n",
    "df = df[1:] #take the data less the header row\n",
    "df.columns = new_header #set the header row as the df header\n",
    "df['code']=df['code'].str.upper()\n",
    "df['description']=df['description'].str.lower()\n",
    "df[\"takaout\"] = pd.to_numeric(df[\"takaout\"])\n",
    "df[\"takain\"] = pd.to_numeric(df[\"takain\"])\n",
    "df['date']=pd.to_datetime(df.date)\n",
    "df.drop(df.loc[df['date'] < '2020-01-01'].index, inplace=True)\n",
    "df.drop(df.loc[df['date'] > '2020-12-31'].index, inplace=True)\n",
    "df.head()"
   ]
  },
  {
   "cell_type": "code",
   "execution_count": 28,
   "id": "628f6817",
   "metadata": {},
   "outputs": [],
   "source": [
    "df_takaout=df.drop(df[(df.takaout==0)].index)\n",
    "Expense=['snacks, treats, stimulants', 'transport costs', 'other expenditure', 'food costs',\n",
    "         'toiletries purchased', 'communications',\n",
    "        'fuel costs', 'home maintenance', 'clothes, cloth',\n",
    "        'vehicle repair costs', 'rent paid', 'personal grooming',\n",
    "        'healthcare costs',  \n",
    "        'farm inputs', 'education costs', 'home construction',\n",
    "        'gifts to outsiders', 'utilities cost', 'fees paid',\n",
    "         'work tools and materials', 'jewellery purchases',\n",
    "        'payment to others']\n",
    "\n",
    "#'opening balance', 'savings deposited','loan repayment made','business asset purchase',\n",
    "#,'shop stock purchases','wages paid out','emoney stock purchases',\"jasim's secret sim transactions\"'newspaper stocks',"
   ]
  },
  {
   "cell_type": "code",
   "execution_count": 8,
   "id": "00925384",
   "metadata": {
    "scrolled": true
   },
   "outputs": [
    {
     "data": {
      "text/plain": [
       "array(['food costs', 'other expenditure', 'transport costs',\n",
       "       'snacks, treats, stimulants', 'home maintenance',\n",
       "       'toiletries purchased', 'wages paid out', 'utilities cost',\n",
       "       'savings deposited', 'loan repayment made', 'education costs',\n",
       "       'clothes, cloth', 'shop stock purchases', 'communications',\n",
       "       'personal grooming', 'work tools and materials', 'fuel costs',\n",
       "       'healthcare costs', 'payment to others', 'fees paid',\n",
       "       'gifts to outsiders', 'farm inputs', 'newspaper stocks',\n",
       "       'vehicle repair costs', 'home construction',\n",
       "       'recycling stock purchases', 'repayment made to diary project',\n",
       "       'rent paid', 'business asset purchase', 'jewellery purchases',\n",
       "       'loan or howlat given', 'real estate purchases'], dtype=object)"
      ]
     },
     "execution_count": 8,
     "metadata": {},
     "output_type": "execute_result"
    }
   ],
   "source": [
    "df_takaout['description'].unique()"
   ]
  },
  {
   "cell_type": "code",
   "execution_count": 29,
   "id": "b989cce0",
   "metadata": {},
   "outputs": [
    {
     "data": {
      "text/plain": [
       "set()"
      ]
     },
     "execution_count": 29,
     "metadata": {},
     "output_type": "execute_result"
    }
   ],
   "source": [
    "set(Expense)-set(['food costs', 'other expenditure', 'transport costs',\n",
    "       'snacks, treats, stimulants', 'home maintenance',\n",
    "       'toiletries purchased', 'wages paid out', 'utilities cost',\n",
    "       'savings deposited', 'loan repayment made', 'education costs',\n",
    "       'clothes, cloth', 'shop stock purchases', 'communications',\n",
    "       'personal grooming', 'work tools and materials', 'fuel costs',\n",
    "       'healthcare costs', 'payment to others', 'fees paid',\n",
    "       'gifts to outsiders', 'farm inputs', 'newspaper stocks',\n",
    "       'vehicle repair costs', 'home construction',\n",
    "       'recycling stock purchases', 'repayment made to diary project',\n",
    "       'rent paid', 'business asset purchase', 'jewellery purchases',\n",
    "       'loan or howlat given', 'real estate purchases'])"
   ]
  },
  {
   "cell_type": "code",
   "execution_count": 128,
   "id": "cb22185d",
   "metadata": {
    "scrolled": true
   },
   "outputs": [
    {
     "data": {
      "text/plain": [
       "array(['earned income', 'payment from diary project',\n",
       "       'hairdressing income', 'gifts from outsiders', 'shop sales',\n",
       "       'farm sales', 'newspaper sales', 'vehicle repair and sales income',\n",
       "       'dressmaking income', 'rickshaw income', 'musical income',\n",
       "       'home or street snack sales', 'boatman income', 'fishing income',\n",
       "       'income as salesman', 'payments received', 'rent income',\n",
       "       'washing and laundry income', 'overseas remittance',\n",
       "       'loan repayment received', 'shoe sales and repair',\n",
       "       'loan or howlat taken', 'recycling income', 'sales of assets',\n",
       "       'savings withdrawal taken', 'other income', 'welfare payments',\n",
       "       'coaching income', 'faith healing income'], dtype=object)"
      ]
     },
     "execution_count": 128,
     "metadata": {},
     "output_type": "execute_result"
    }
   ],
   "source": [
    "df_takain=df.drop(df[(df.takain==0)].index)\n",
    "df_takain['description'].unique()"
   ]
  },
  {
   "cell_type": "code",
   "execution_count": 130,
   "id": "42df35f8",
   "metadata": {},
   "outputs": [],
   "source": [
    "Income=['earned income', 'payment from diary project',\n",
    "       'hairdressing income', 'gifts from outsiders', 'shop sales',\n",
    "       'farm sales', 'newspaper sales', 'vehicle repair and sales income',\n",
    "       'dressmaking income', 'rickshaw income', 'musical income',\n",
    "       'home or street snack sales', 'boatman income', 'fishing income',\n",
    "       'income as salesman', 'payments received', 'rent income',\n",
    "       'washing and laundry income', 'overseas remittance',\n",
    "       'loan repayment received', 'shoe sales and repair',\n",
    "       'loan or howlat taken', 'recycling income', 'sales of assets',\n",
    "       'savings withdrawal taken', 'other income', 'welfare payments',\n",
    "       'coaching income', 'faith healing income']"
   ]
  },
  {
   "cell_type": "code",
   "execution_count": 131,
   "id": "6a485a85",
   "metadata": {},
   "outputs": [
    {
     "name": "stdout",
     "output_type": "stream",
     "text": [
      "Using matplotlib backend: MacOSX\n"
     ]
    }
   ],
   "source": [
    "Income_sum={}\n",
    "for i in Income:    \n",
    "    x=df_takain[df_takain['description']==i].sum()['takain']\n",
    "    x=abs(x)\n",
    "    Income_sum[i]=x\n",
    "Income_q=sorted(Income_sum.values())\n",
    "Income_labels=[]\n",
    "for x in Income_q:\n",
    "    for name, number in Income_sum.items():\n",
    "        if x == number:\n",
    "            Income_labels.append(name)\n",
    "%matplotlib\n",
    "\n",
    "def my_autopct(pct):\n",
    "    return ('%.2f' % pct) if pct > 1.765 else ''\n",
    "colors= cm.rainbow(np.arange(len(Income_q))/len(Income_q))\n",
    "sizes=(np.array(Income_q)/sum(Income_q))*100\n",
    "labels = [f'{l}, {s:0.1f}%' for l, s in zip(Income_labels, sizes)]\n",
    "fig, ax = plt.subplots(figsize=(10,5))\n",
    "ax.pie(Income_q,labels=labels,colors=colors,startangle=90,autopct=my_autopct,rotatelabels=False,textprops={\"size\": 10})\n",
    "handles, labels = ax.get_legend_handles_labels()\n",
    "\n",
    "\n",
    "plt.legend(handles[::-1], labels[::-1],bbox_to_anchor=(1.1, 1.05))\n",
    "plt.show()"
   ]
  },
  {
   "cell_type": "code",
   "execution_count": 30,
   "id": "9d32bafd",
   "metadata": {},
   "outputs": [],
   "source": [
    "Expense_sum={}\n",
    "for i in Expense:    \n",
    "    x=df_takaout[df_takaout['description']==i].sum()['takaout']\n",
    "    x=abs(x)\n",
    "    Expense_sum[i]=x"
   ]
  },
  {
   "cell_type": "code",
   "execution_count": 31,
   "id": "1ec98dbd",
   "metadata": {},
   "outputs": [],
   "source": [
    "Expense_q=sorted(Expense_sum.values())\n",
    "Expense_labels=[]\n",
    "for x in Expense_q:\n",
    "    for name, number in Expense_sum.items():\n",
    "        if x == number:\n",
    "            Expense_labels.append(name)"
   ]
  },
  {
   "cell_type": "code",
   "execution_count": 32,
   "id": "7b3612b6",
   "metadata": {},
   "outputs": [
    {
     "data": {
      "text/plain": [
       "22"
      ]
     },
     "execution_count": 32,
     "metadata": {},
     "output_type": "execute_result"
    }
   ],
   "source": [
    "len(Expense_q)"
   ]
  },
  {
   "cell_type": "code",
   "execution_count": 33,
   "id": "20290af6",
   "metadata": {},
   "outputs": [
    {
     "name": "stdout",
     "output_type": "stream",
     "text": [
      "Using matplotlib backend: MacOSX\n"
     ]
    }
   ],
   "source": [
    "%matplotlib\n",
    "from matplotlib import font_manager as fm\n",
    "\n",
    "def my_autopct(pct):\n",
    "    return ('%.1f' % pct) if pct > 1.76 else ''\n",
    "\n",
    "#ax.pie(df[col], labels=df.index, autopct=my_autopct, colors=colors)\n",
    "#label = list(Expense_sum.keys()\n",
    "#values = list(Expense_sum.values())\n",
    "explode=[0,0,0,0,0,0,0,0,0,0,0,0,0,0,0,0,0,0,0,0,0,0.02]\n",
    "colors= cm.rainbow(np.arange(len(Expense_q))/len(Expense_q))\n",
    "fig, ax = plt.subplots(figsize=(10,5))\n",
    "ax.pie(Expense_q,labels=Expense_labels,explode=explode,colors=colors,startangle=90,autopct=my_autopct,rotatelabels=False,textprops={\"size\": 10})\n",
    "handles, labels = ax.get_legend_handles_labels()\n",
    "\n",
    "\n",
    "plt.legend(handles[::-1], labels[::-1],bbox_to_anchor=(1.1, 0.95))\n",
    "plt.show()"
   ]
  },
  {
   "cell_type": "code",
   "execution_count": null,
   "id": "02478d51",
   "metadata": {},
   "outputs": [],
   "source": []
  },
  {
   "cell_type": "code",
   "execution_count": 39,
   "id": "c976d4d8",
   "metadata": {},
   "outputs": [],
   "source": [
    "dfHC=df.drop(df[(df.description!='home construction')].index)"
   ]
  },
  {
   "cell_type": "code",
   "execution_count": 40,
   "id": "a6ce416b",
   "metadata": {},
   "outputs": [],
   "source": [
    "dfHC=dfHC.replace('water and s17atftion','water and sanitation')"
   ]
  },
  {
   "cell_type": "code",
   "execution_count": 41,
   "id": "52ec8fa8",
   "metadata": {
    "scrolled": true
   },
   "outputs": [
    {
     "data": {
      "text/plain": [
       "array(['carpentry', 'building parts and materials', 'labour', 'masonry',\n",
       "       'painting', 'brickbreaking', 'water and sanitation', 'fees',\n",
       "       'electric'], dtype=object)"
      ]
     },
     "execution_count": 41,
     "metadata": {},
     "output_type": "execute_result"
    }
   ],
   "source": [
    "dfHC['subclass'].unique()"
   ]
  },
  {
   "cell_type": "code",
   "execution_count": 42,
   "id": "4cdffc3b",
   "metadata": {},
   "outputs": [],
   "source": [
    "HC_Expense=['carpentry', 'building parts and materials', 'labour', 'masonry',\n",
    "       'painting', 'brickbreaking', 'fees',\n",
    "       'electric', 'water and sanitation']"
   ]
  },
  {
   "cell_type": "code",
   "execution_count": 43,
   "id": "7bd54329",
   "metadata": {},
   "outputs": [],
   "source": [
    "HC_Expense_sum={}\n",
    "for i in HC_Expense:    \n",
    "    x=dfHC[dfHC['subclass']==i].sum()['takaout']\n",
    "    x=abs(x)\n",
    "    HC_Expense_sum[i]=x"
   ]
  },
  {
   "cell_type": "code",
   "execution_count": 89,
   "id": "5312bec3",
   "metadata": {},
   "outputs": [],
   "source": [
    "HC_quantity=sorted(HC_Expense_sum.values())\n",
    "HC_labels=[]\n",
    "for x in HC_quantity:\n",
    "    for name, number in HC_Expense_sum.items():\n",
    "        if x == number:\n",
    "            HC_labels.append(name)"
   ]
  },
  {
   "cell_type": "code",
   "execution_count": 127,
   "id": "f397f478",
   "metadata": {},
   "outputs": [
    {
     "name": "stdout",
     "output_type": "stream",
     "text": [
      "Using matplotlib backend: MacOSX\n"
     ]
    }
   ],
   "source": [
    "%matplotlib\n",
    "def my_autopct(pct):\n",
    "    return ('%.2f' % pct) if pct > 1.765 else ''\n",
    "color= ['dodgerblue','red','orangered','deepskyblue','limegreen','tomato','firebrick','tomato','deepskyblue']\n",
    "colors=color[::-1]\n",
    "fig, ax2 = plt.subplots(figsize=(10,5))\n",
    "plt.pie(HC_quantity,labels=HC_labels,startangle=90,autopct=my_autopct,labeldistance=1.1,colors =colors,textprops={\"size\": 10},wedgeprops={'linewidth': 0.4, 'edgecolor':\"white\"})\n",
    "handles, labels = ax2.get_legend_handles_labels()\n",
    "plt.legend(bbox_to_anchor=(1.1, 0.8),labels=HC_labels[::-1],handles=handles[::-1])\n",
    "plt.show()"
   ]
  },
  {
   "cell_type": "code",
   "execution_count": 107,
   "id": "7504e837",
   "metadata": {
    "scrolled": true
   },
   "outputs": [
    {
     "data": {
      "text/plain": [
       "[<matplotlib.patches.Wedge at 0x7fd8fa610310>,\n",
       " <matplotlib.patches.Wedge at 0x7fd8fb8a0bb0>,\n",
       " <matplotlib.patches.Wedge at 0x7fd8fb8ae1f0>,\n",
       " <matplotlib.patches.Wedge at 0x7fd8fb8ae7f0>,\n",
       " <matplotlib.patches.Wedge at 0x7fd8fb8aedf0>,\n",
       " <matplotlib.patches.Wedge at 0x7fd8fbc0a430>,\n",
       " <matplotlib.patches.Wedge at 0x7fd8fbc0aa30>,\n",
       " <matplotlib.patches.Wedge at 0x7fd8fbc19070>,\n",
       " <matplotlib.patches.Wedge at 0x7fd8fbc19670>,\n",
       " <matplotlib.patches.Wedge at 0x7fd8fbc19c70>,\n",
       " <matplotlib.patches.Wedge at 0x7fd8fbc262b0>,\n",
       " <matplotlib.patches.Wedge at 0x7fd8fbc268b0>,\n",
       " <matplotlib.patches.Wedge at 0x7fd8fbc26eb0>,\n",
       " <matplotlib.patches.Wedge at 0x7fd8fbc364f0>,\n",
       " <matplotlib.patches.Wedge at 0x7fd8fbc36af0>,\n",
       " <matplotlib.patches.Wedge at 0x7fd8fbc44130>,\n",
       " <matplotlib.patches.Wedge at 0x7fd8fbc44730>,\n",
       " <matplotlib.patches.Wedge at 0x7fd8fbc44d30>,\n",
       " <matplotlib.patches.Wedge at 0x7fd8fbc54370>,\n",
       " <matplotlib.patches.Wedge at 0x7fd8fbc54970>,\n",
       " <matplotlib.patches.Wedge at 0x7fd8fbc54f70>,\n",
       " <matplotlib.patches.Wedge at 0x7fd8fbc625b0>,\n",
       " <matplotlib.patches.Wedge at 0x7fd8fbc62bb0>,\n",
       " <matplotlib.patches.Wedge at 0x7fd8fbc701f0>,\n",
       " <matplotlib.patches.Wedge at 0x7fd8fbc707f0>,\n",
       " <matplotlib.patches.Wedge at 0x7fd8fbc70df0>,\n",
       " <matplotlib.patches.Wedge at 0x7fd8fbc7f5e0>]"
      ]
     },
     "execution_count": 107,
     "metadata": {},
     "output_type": "execute_result"
    }
   ],
   "source": [
    "handles"
   ]
  },
  {
   "cell_type": "code",
   "execution_count": 108,
   "id": "8afa5e64",
   "metadata": {},
   "outputs": [
    {
     "data": {
      "text/plain": [
       "['savings repaid to others',\n",
       " 'personal grooming',\n",
       " 'repayment made to diary project',\n",
       " 'payment to others',\n",
       " 'vehicle repair costs',\n",
       " 'toiletries purchased',\n",
       " 'communications',\n",
       " 'work tools and materials',\n",
       " 'jewellery purchases',\n",
       " 'fees paid',\n",
       " 'rent paid',\n",
       " 'real estate purchases',\n",
       " 'loan or howlat given',\n",
       " 'education costs',\n",
       " 'home maintenance',\n",
       " 'fuel costs',\n",
       " 'transport costs',\n",
       " 'clothes, cloth',\n",
       " 'utilities cost',\n",
       " 'healthcare costs',\n",
       " 'recycling stock purchases',\n",
       " 'snacks, treats, stimulants',\n",
       " 'farm inputs',\n",
       " 'gifts to outsiders',\n",
       " 'other expenditure',\n",
       " 'food costs',\n",
       " 'home construction']"
      ]
     },
     "execution_count": 108,
     "metadata": {},
     "output_type": "execute_result"
    }
   ],
   "source": [
    "labels"
   ]
  },
  {
   "cell_type": "code",
   "execution_count": null,
   "id": "0442f0c9",
   "metadata": {},
   "outputs": [],
   "source": [
    "wedgeprops={ 'linewidth' : 0.2, 'edgecolor' : 'white' },fig, ax = plt.subplots(figsize=(10,5)"
   ]
  },
  {
   "cell_type": "code",
   "execution_count": 53,
   "id": "73c794f8",
   "metadata": {},
   "outputs": [
    {
     "data": {
      "text/plain": [
       "[1500, 7500, 9800, 23920, 27700, 35730, 111420, 759900, 2521855]"
      ]
     },
     "execution_count": 53,
     "metadata": {},
     "output_type": "execute_result"
    }
   ],
   "source": [
    "HC_quantity"
   ]
  },
  {
   "cell_type": "code",
   "execution_count": 54,
   "id": "53359f0a",
   "metadata": {},
   "outputs": [
    {
     "data": {
      "text/plain": [
       "['electric',\n",
       " 'fees',\n",
       " 'brickbreaking',\n",
       " 'labour',\n",
       " 'water and sanitation',\n",
       " 'painting',\n",
       " 'carpentry',\n",
       " 'masonry',\n",
       " 'building parts and materials']"
      ]
     },
     "execution_count": 54,
     "metadata": {},
     "output_type": "execute_result"
    }
   ],
   "source": [
    "HC_labels"
   ]
  },
  {
   "cell_type": "code",
   "execution_count": 60,
   "id": "9b071665",
   "metadata": {},
   "outputs": [
    {
     "data": {
      "text/html": [
       "<div>\n",
       "<style scoped>\n",
       "    .dataframe tbody tr th:only-of-type {\n",
       "        vertical-align: middle;\n",
       "    }\n",
       "\n",
       "    .dataframe tbody tr th {\n",
       "        vertical-align: top;\n",
       "    }\n",
       "\n",
       "    .dataframe thead th {\n",
       "        text-align: right;\n",
       "    }\n",
       "</style>\n",
       "<table border=\"1\" class=\"dataframe\">\n",
       "  <thead>\n",
       "    <tr style=\"text-align: right;\">\n",
       "      <th></th>\n",
       "      <th>date</th>\n",
       "      <th>ref</th>\n",
       "      <th>code</th>\n",
       "      <th>class</th>\n",
       "      <th>description</th>\n",
       "      <th>subclass</th>\n",
       "      <th>tag</th>\n",
       "      <th>takain</th>\n",
       "      <th>takaout</th>\n",
       "      <th>details</th>\n",
       "      <th>notes</th>\n",
       "      <th>flow</th>\n",
       "      <th>type</th>\n",
       "      <th>quartile</th>\n",
       "    </tr>\n",
       "  </thead>\n",
       "  <tbody>\n",
       "    <tr>\n",
       "      <th>834228</th>\n",
       "      <td>2020-06-09</td>\n",
       "      <td>no rec</td>\n",
       "      <td>27HDM</td>\n",
       "      <td>EHC</td>\n",
       "      <td>home construction</td>\n",
       "      <td>electric</td>\n",
       "      <td>no rec</td>\n",
       "      <td>0</td>\n",
       "      <td>-500</td>\n",
       "      <td>electician</td>\n",
       "      <td>no rec</td>\n",
       "      <td>out</td>\n",
       "      <td>expenditure</td>\n",
       "      <td>1</td>\n",
       "    </tr>\n",
       "    <tr>\n",
       "      <th>836637</th>\n",
       "      <td>2020-06-16</td>\n",
       "      <td>no rec</td>\n",
       "      <td>27HDM</td>\n",
       "      <td>EHC</td>\n",
       "      <td>home construction</td>\n",
       "      <td>electric</td>\n",
       "      <td>br</td>\n",
       "      <td>0</td>\n",
       "      <td>-1000</td>\n",
       "      <td>electician</td>\n",
       "      <td>He do not give Gb kisti to his wife name , rel...</td>\n",
       "      <td>out</td>\n",
       "      <td>expenditure</td>\n",
       "      <td>1</td>\n",
       "    </tr>\n",
       "  </tbody>\n",
       "</table>\n",
       "</div>"
      ],
      "text/plain": [
       "0            date     ref   code class        description  subclass     tag  \\\n",
       "834228 2020-06-09  no rec  27HDM   EHC  home construction  electric  no rec   \n",
       "836637 2020-06-16  no rec  27HDM   EHC  home construction  electric      br   \n",
       "\n",
       "0       takain  takaout     details  \\\n",
       "834228       0     -500  electician   \n",
       "836637       0    -1000  electician   \n",
       "\n",
       "0                                                   notes flow         type  \\\n",
       "834228                                             no rec  out  expenditure   \n",
       "836637  He do not give Gb kisti to his wife name , rel...  out  expenditure   \n",
       "\n",
       "0      quartile  \n",
       "834228        1  \n",
       "836637        1  "
      ]
     },
     "execution_count": 60,
     "metadata": {},
     "output_type": "execute_result"
    }
   ],
   "source": [
    "dfHC[dfHC['subclass']=='electric']"
   ]
  },
  {
   "cell_type": "code",
   "execution_count": 27,
   "id": "702913b4",
   "metadata": {
    "scrolled": true
   },
   "outputs": [
    {
     "data": {
      "text/html": [
       "<div>\n",
       "<style scoped>\n",
       "    .dataframe tbody tr th:only-of-type {\n",
       "        vertical-align: middle;\n",
       "    }\n",
       "\n",
       "    .dataframe tbody tr th {\n",
       "        vertical-align: top;\n",
       "    }\n",
       "\n",
       "    .dataframe thead th {\n",
       "        text-align: right;\n",
       "    }\n",
       "</style>\n",
       "<table border=\"1\" class=\"dataframe\">\n",
       "  <thead>\n",
       "    <tr style=\"text-align: right;\">\n",
       "      <th></th>\n",
       "      <th>date</th>\n",
       "      <th>ref</th>\n",
       "      <th>code</th>\n",
       "      <th>class</th>\n",
       "      <th>description</th>\n",
       "      <th>subclass</th>\n",
       "      <th>tag</th>\n",
       "      <th>takain</th>\n",
       "      <th>takaout</th>\n",
       "      <th>details</th>\n",
       "      <th>notes</th>\n",
       "      <th>flow</th>\n",
       "      <th>type</th>\n",
       "      <th>quartile</th>\n",
       "    </tr>\n",
       "  </thead>\n",
       "  <tbody>\n",
       "  </tbody>\n",
       "</table>\n",
       "</div>"
      ],
      "text/plain": [
       "Empty DataFrame\n",
       "Columns: [date, ref, code, class, description, subclass, tag, takain, takaout, details, notes, flow, type, quartile]\n",
       "Index: []"
      ]
     },
     "execution_count": 27,
     "metadata": {},
     "output_type": "execute_result"
    }
   ],
   "source": [
    "df[df['description']=='savings repaid to others']"
   ]
  },
  {
   "cell_type": "code",
   "execution_count": null,
   "id": "2d107f9e",
   "metadata": {},
   "outputs": [],
   "source": []
  }
 ],
 "metadata": {
  "kernelspec": {
   "display_name": "Python 3",
   "language": "python",
   "name": "python3"
  },
  "language_info": {
   "codemirror_mode": {
    "name": "ipython",
    "version": 3
   },
   "file_extension": ".py",
   "mimetype": "text/x-python",
   "name": "python",
   "nbconvert_exporter": "python",
   "pygments_lexer": "ipython3",
   "version": "3.9.1"
  }
 },
 "nbformat": 4,
 "nbformat_minor": 5
}
